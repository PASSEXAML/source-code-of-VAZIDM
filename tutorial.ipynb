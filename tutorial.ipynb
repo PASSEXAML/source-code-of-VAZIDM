{
 "cells": [
  {
   "cell_type": "code",
   "execution_count": null,
   "metadata": {
    "collapsed": true
   },
   "outputs": [],
   "source": [
    "#VAZIDM Variational-Adversarial Zero-Inflated DeNoise Model"
   ]
  },
  {
   "cell_type": "code",
   "execution_count": null,
   "outputs": [],
   "source": [
    "##Denoise data"
   ],
   "metadata": {
    "collapsed": false
   }
  },
  {
   "cell_type": "code",
   "execution_count": null,
   "outputs": [],
   "source": [
    "from model.api import api\n",
    "import pandas as pd\n",
    "import tensorflow as tf\n",
    "import pandas as pd\n",
    "import numpy as np\n",
    "\n",
    "result_path = \"result\\\\IBD_PRISM\"\n",
    "\n",
    "# 读取tsv文件\n",
    "micro_data = pd.read_csv(\"./data/IBD_PRISM/microbiome_PRISM.tsv\", sep='\\t', index_col=0)\n",
    "\n",
    "# 转置数据\n",
    "micro_data = micro_data.transpose()\n",
    "d = api();\n",
    "\n",
    "d.vazidm(adata=micro_data, threads=1, file_path=result_path)"
   ],
   "metadata": {
    "collapsed": false
   }
  },
  {
   "cell_type": "code",
   "execution_count": null,
   "outputs": [],
   "source": [
    "import pandas as pd\n",
    "\n",
    "df = pd.read_csv('result/IBD_PRISM/output_values.csv')\n",
    "\n",
    "df.to_csv('result/IBD_PRISM/output_values.tsv', sep='\\t', index=False)"
   ],
   "metadata": {
    "collapsed": false
   }
  }
 ],
 "metadata": {
  "kernelspec": {
   "display_name": "Python 3",
   "language": "python",
   "name": "python3"
  },
  "language_info": {
   "codemirror_mode": {
    "name": "ipython",
    "version": 2
   },
   "file_extension": ".py",
   "mimetype": "text/x-python",
   "name": "python",
   "nbconvert_exporter": "python",
   "pygments_lexer": "ipython2",
   "version": "2.7.6"
  }
 },
 "nbformat": 4,
 "nbformat_minor": 0
}
